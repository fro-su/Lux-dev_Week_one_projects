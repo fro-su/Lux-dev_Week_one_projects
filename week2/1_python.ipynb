{
 "cells": [
  {
   "cell_type": "code",
   "execution_count": 10,
   "metadata": {},
   "outputs": [
    {
     "name": "stdout",
     "output_type": "stream",
     "text": [
      "Sum of array element is:60\n",
      "Sum of array element is:60\n"
     ]
    }
   ],
   "source": [
    "import numpy as np\n",
    "\n",
    "arr = np.array([10,20,30])\n",
    "# sum the array elements with sum() function\n",
    "sum_arr =arr.sum()\n",
    " \n",
    "print(f\"Sum of array element is:{sum_arr}\")\n",
    "\n",
    "# sum the array elements with for loop\n",
    "for i in arr:\n",
    "  sum=i+i \n",
    "print(f\"Sum of array element is:{sum}\")"
   ]
  }
 ],
 "metadata": {
  "kernelspec": {
   "display_name": "Python 3",
   "language": "python",
   "name": "python3"
  },
  "language_info": {
   "codemirror_mode": {
    "name": "ipython",
    "version": 3
   },
   "file_extension": ".py",
   "mimetype": "text/x-python",
   "name": "python",
   "nbconvert_exporter": "python",
   "pygments_lexer": "ipython3",
   "version": "3.10.6"
  },
  "orig_nbformat": 4,
  "vscode": {
   "interpreter": {
    "hash": "e4c53b7e1cad519cb29d98dcc0395d566d8a9f91721dd08afc9afe52782e5e94"
   }
  }
 },
 "nbformat": 4,
 "nbformat_minor": 2
}
