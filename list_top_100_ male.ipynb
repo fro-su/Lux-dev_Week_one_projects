{
 "cells": [
  {
   "cell_type": "code",
   "execution_count": null,
   "metadata": {},
   "outputs": [],
   "source": [
    "import requests\n",
    "\n",
    "user_number = 100\n",
    "sex = \"male\"\n",
    "\n",
    "url = f\"https://randomuser.me/api/?page=3&results={user_number}&gender={sex}\" \n",
    "\n",
    "get_response = requests.get(url)\n",
    "data = get_response.json()\n",
    "\n",
    "\n",
    "for x in range(100):\n",
    "  user_information = data[\"results\"][x]\n",
    "  x+=1\n",
    "  print(f\"{x} Name {user_information['name']['first']} Gender {user_information['gender']} Country {user_information['location']} Email {user_information['email']}\\n\")\n",
    "\n"
   ]
  }
 ],
 "metadata": {
  "kernelspec": {
   "display_name": "base",
   "language": "python",
   "name": "python3"
  },
  "language_info": {
   "codemirror_mode": {
    "name": "ipython",
    "version": 3
   },
   "file_extension": ".py",
   "mimetype": "text/x-python",
   "name": "python",
   "nbconvert_exporter": "python",
   "pygments_lexer": "ipython3",
   "version": "3.9.12"
  },
  "orig_nbformat": 4,
  "vscode": {
   "interpreter": {
    "hash": "2caed663c35b5c0cfee391562ecec26c42e1d55ebe473d03717c8cf5505cd790"
   }
  }
 },
 "nbformat": 4,
 "nbformat_minor": 2
}
