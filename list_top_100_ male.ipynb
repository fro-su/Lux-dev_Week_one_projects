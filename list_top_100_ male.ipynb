{
 "cells": [
  {
   "cell_type": "code",
   "execution_count": null,
   "metadata": {},
   "outputs": [],
   "source": [
    "import requests\n",
    "\n",
    "# Set the number of users to retrieve and the gender\n",
    "num_users = 100\n",
    "gender = \"male\"\n",
    "\n",
    "# Build the URL and query parameters\n",
    "url = \"https://randomuser.me/api/\"\n",
    "params = {\"page\": 3, \"results\": num_users, \"gender\": gender}\n",
    "\n",
    "# Send the request and retrieve the response data as JSON\n",
    "response = requests.get(url, params=params)\n",
    "data = response.json()\n",
    "\n",
    "# Iterate over the user data and print the requested information\n",
    "for i, user_info in enumerate(data[\"results\"], start=1):\n",
    "    print(f\"{i} Name = {user_info['name']['first']} Gender = {user_info['gender']} Email = {user_info['email']}\\n\")\n",
    "\n"
   ]
  }
 ],
 "metadata": {
  "kernelspec": {
   "display_name": "base",
   "language": "python",
   "name": "python3"
  },
  "language_info": {
   "codemirror_mode": {
    "name": "ipython",
    "version": 3
   },
   "file_extension": ".py",
   "mimetype": "text/x-python",
   "name": "python",
   "nbconvert_exporter": "python",
   "pygments_lexer": "ipython3",
   "version": "3.9.12"
  },
  "orig_nbformat": 4,
  "vscode": {
   "interpreter": {
    "hash": "2caed663c35b5c0cfee391562ecec26c42e1d55ebe473d03717c8cf5505cd790"
   }
  }
 },
 "nbformat": 4,
 "nbformat_minor": 2
}
